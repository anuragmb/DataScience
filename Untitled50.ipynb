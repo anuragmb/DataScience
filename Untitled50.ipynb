{
 "cells": [
  {
   "cell_type": "raw",
   "metadata": {},
   "source": [
    "Question 1:\n",
    "    Given the following jumbled words, OBANWRI guess the correct english word ?\n",
    "Answer:\n",
    "    RAINBOW\n",
    "    \n",
    "    "
   ]
  },
  {
   "cell_type": "code",
   "execution_count": 2,
   "metadata": {},
   "outputs": [
    {
     "name": "stdout",
     "output_type": "stream",
     "text": [
      "LETSUPGRADE\n"
     ]
    }
   ],
   "source": [
    "# Qusetion 2 : write a programm to print \"LETSUPGRADE\"\n",
    "print(\"LETSUPGRADE\")"
   ]
  },
  {
   "cell_type": "code",
   "execution_count": 4,
   "metadata": {},
   "outputs": [
    {
     "name": "stdout",
     "output_type": "stream",
     "text": [
      "20\n",
      "10\n",
      "Loss\n"
     ]
    }
   ],
   "source": [
    "'''Question 3:\n",
    "    Write a program which takes cost_price and selling_price as input and\n",
    "    display whether the transaction is profit or loss or neither\n",
    "    '''\n",
    "    \n",
    "cost_price=int(input(\"\"))\n",
    "selling_price=int(input(\"\"))\n",
    "if(selling_price > cost_price):\n",
    "    print(\"Profit\")\n",
    "elif(selling_price < cost_price):\n",
    "    print(\"Loss\")\n",
    "else:\n",
    "    print(\"Neither\") "
   ]
  },
  {
   "cell_type": "code",
   "execution_count": 10,
   "metadata": {},
   "outputs": [
    {
     "name": "stdout",
     "output_type": "stream",
     "text": [
      "35\n",
      "2800\n"
     ]
    }
   ],
   "source": [
    "'''\n",
    "Question 4:\n",
    "    Write a program that takes an amount in Euros as input.\n",
    "    You need to find its equivalent in Rupees and display it.\n",
    "    Assume 1 Euro = 80 Rupees.\n",
    "'''\n",
    "Euro_amount=int(input(\"\"))\n",
    "print(Euro_amount * 80)"
   ]
  },
  {
   "cell_type": "code",
   "execution_count": null,
   "metadata": {},
   "outputs": [],
   "source": []
  }
 ],
 "metadata": {
  "celltoolbar": "Raw Cell Format",
  "kernelspec": {
   "display_name": "Python 3",
   "language": "python",
   "name": "python3"
  },
  "language_info": {
   "codemirror_mode": {
    "name": "ipython",
    "version": 3
   },
   "file_extension": ".py",
   "mimetype": "text/x-python",
   "name": "python",
   "nbconvert_exporter": "python",
   "pygments_lexer": "ipython3",
   "version": "3.7.6"
  }
 },
 "nbformat": 4,
 "nbformat_minor": 4
}
